{
 "metadata": {
  "name": ""
 },
 "nbformat": 3,
 "nbformat_minor": 0,
 "worksheets": [
  {
   "cells": [
    {
     "cell_type": "code",
     "collapsed": false,
     "input": [
      "import pandas as pd\n",
      "import numpy as np\n",
      "import matplotlib.pyplot as plt\n",
      "\n",
      "# IPython Notebook to get students started with the Kaggle Titanic competition:\n",
      "# http://www.kaggle.com/c/titanic-gettingStarted/\n",
      "# MIT licensed, this just solves the Excel demo that is used on Kaggle to machine\n",
      "# learn using the 'Sex' field:\n",
      "# http://www.kaggle.com/c/titanic-gettingStarted/details/getting-started-with-excel\n",
      "\n",
      "# Start the Notebook at the command line using the --pylab flag\n",
      "# so that the charts are drawn in-line inside the browser, rather than being\n",
      "# drawn in a separate pop-up window\n",
      "# e.g.\n",
      "# $ ipython notebook --pylab=inline\n",
      "\n",
      "# maybe start a second IPython shell\n",
      "# $ ipython console --existing c09440a7-190d-4b84-a073-db3905711aa8  # id comes from the output when you\n",
      "# start the notebook (in the shell)\n"
     ],
     "language": "python",
     "metadata": {},
     "outputs": [],
     "prompt_number": 1
    },
    {
     "cell_type": "code",
     "collapsed": false,
     "input": [
      "\n",
      "# Get the train.csv and test.csv files here:\n",
      "# http://www.kaggle.com/c/titanic-gettingStarted/data\n",
      "train = pd.read_csv(\"train.csv\")  # Gives a DataFrame\n",
      "print len(train)\n",
      "train.head()  # should generate an HTML table object rather than raw text\n"
     ],
     "language": "python",
     "metadata": {},
     "outputs": [
      {
       "output_type": "stream",
       "stream": "stdout",
       "text": [
        "891\n"
       ]
      },
      {
       "html": [
        "<div style=\"max-height:1000px;max-width:1500px;overflow:auto;\">\n",
        "<table border=\"1\" class=\"dataframe\">\n",
        "  <thead>\n",
        "    <tr style=\"text-align: right;\">\n",
        "      <th></th>\n",
        "      <th>PassengerId</th>\n",
        "      <th>Survived</th>\n",
        "      <th>Pclass</th>\n",
        "      <th>Name</th>\n",
        "      <th>Sex</th>\n",
        "      <th>Age</th>\n",
        "      <th>SibSp</th>\n",
        "      <th>Parch</th>\n",
        "      <th>Ticket</th>\n",
        "      <th>Fare</th>\n",
        "      <th>Cabin</th>\n",
        "      <th>Embarked</th>\n",
        "    </tr>\n",
        "  </thead>\n",
        "  <tbody>\n",
        "    <tr>\n",
        "      <th>0</th>\n",
        "      <td> 1</td>\n",
        "      <td> 0</td>\n",
        "      <td> 3</td>\n",
        "      <td>                           Braund, Mr. Owen Harris</td>\n",
        "      <td>   male</td>\n",
        "      <td> 22</td>\n",
        "      <td> 1</td>\n",
        "      <td> 0</td>\n",
        "      <td>        A/5 21171</td>\n",
        "      <td>  7.2500</td>\n",
        "      <td>  NaN</td>\n",
        "      <td> S</td>\n",
        "    </tr>\n",
        "    <tr>\n",
        "      <th>1</th>\n",
        "      <td> 2</td>\n",
        "      <td> 1</td>\n",
        "      <td> 1</td>\n",
        "      <td> Cumings, Mrs. John Bradley (Florence Briggs Th...</td>\n",
        "      <td> female</td>\n",
        "      <td> 38</td>\n",
        "      <td> 1</td>\n",
        "      <td> 0</td>\n",
        "      <td>         PC 17599</td>\n",
        "      <td> 71.2833</td>\n",
        "      <td>  C85</td>\n",
        "      <td> C</td>\n",
        "    </tr>\n",
        "    <tr>\n",
        "      <th>2</th>\n",
        "      <td> 3</td>\n",
        "      <td> 1</td>\n",
        "      <td> 3</td>\n",
        "      <td>                            Heikkinen, Miss. Laina</td>\n",
        "      <td> female</td>\n",
        "      <td> 26</td>\n",
        "      <td> 0</td>\n",
        "      <td> 0</td>\n",
        "      <td> STON/O2. 3101282</td>\n",
        "      <td>  7.9250</td>\n",
        "      <td>  NaN</td>\n",
        "      <td> S</td>\n",
        "    </tr>\n",
        "    <tr>\n",
        "      <th>3</th>\n",
        "      <td> 4</td>\n",
        "      <td> 1</td>\n",
        "      <td> 1</td>\n",
        "      <td>      Futrelle, Mrs. Jacques Heath (Lily May Peel)</td>\n",
        "      <td> female</td>\n",
        "      <td> 35</td>\n",
        "      <td> 1</td>\n",
        "      <td> 0</td>\n",
        "      <td>           113803</td>\n",
        "      <td> 53.1000</td>\n",
        "      <td> C123</td>\n",
        "      <td> S</td>\n",
        "    </tr>\n",
        "    <tr>\n",
        "      <th>4</th>\n",
        "      <td> 5</td>\n",
        "      <td> 0</td>\n",
        "      <td> 3</td>\n",
        "      <td>                          Allen, Mr. William Henry</td>\n",
        "      <td>   male</td>\n",
        "      <td> 35</td>\n",
        "      <td> 0</td>\n",
        "      <td> 0</td>\n",
        "      <td>           373450</td>\n",
        "      <td>  8.0500</td>\n",
        "      <td>  NaN</td>\n",
        "      <td> S</td>\n",
        "    </tr>\n",
        "  </tbody>\n",
        "</table>\n",
        "</div>"
       ],
       "metadata": {},
       "output_type": "pyout",
       "prompt_number": 2,
       "text": [
        "   PassengerId  Survived  Pclass  \\\n",
        "0            1         0       3   \n",
        "1            2         1       1   \n",
        "2            3         1       3   \n",
        "3            4         1       1   \n",
        "4            5         0       3   \n",
        "\n",
        "                                                Name     Sex  Age  SibSp  \\\n",
        "0                            Braund, Mr. Owen Harris    male   22      1   \n",
        "1  Cumings, Mrs. John Bradley (Florence Briggs Th...  female   38      1   \n",
        "2                             Heikkinen, Miss. Laina  female   26      0   \n",
        "3       Futrelle, Mrs. Jacques Heath (Lily May Peel)  female   35      1   \n",
        "4                           Allen, Mr. William Henry    male   35      0   \n",
        "\n",
        "   Parch            Ticket     Fare Cabin Embarked  \n",
        "0      0         A/5 21171   7.2500   NaN        S  \n",
        "1      0          PC 17599  71.2833   C85        C  \n",
        "2      0  STON/O2. 3101282   7.9250   NaN        S  \n",
        "3      0            113803  53.1000  C123        S  \n",
        "4      0            373450   8.0500   NaN        S  "
       ]
      }
     ],
     "prompt_number": 2
    },
    {
     "cell_type": "raw",
     "metadata": {},
     "source": [
      "https://www.kaggle.com/c/titanic-gettingStarted/data?train.csv\n",
      "\n",
      "VARIABLE DESCRIPTIONS:\n",
      "survival        Survival\n",
      "                (0 = No; 1 = Yes)\n",
      "pclass          Passenger Class\n",
      "                (1 = 1st; 2 = 2nd; 3 = 3rd)\n",
      "name            Name\n",
      "sex             Sex\n",
      "age             Age\n",
      "sibsp           Number of Siblings/Spouses Aboard\n",
      "parch           Number of Parents/Children Aboard\n",
      "ticket          Ticket Number\n",
      "fare            Passenger Fare\n",
      "cabin           Cabin\n",
      "embarked        Port of Embarkation\n",
      "                (C = Cherbourg; Q = Queenstown; S = Southampton)\n",
      "\n",
      "SPECIAL NOTES:\n",
      "Pclass is a proxy for socio-economic status (SES)\n",
      " 1st ~ Upper; 2nd ~ Middle; 3rd ~ Lower\n",
      "\n",
      "Age is in Years; Fractional if Age less than One (1)\n",
      " If the Age is Estimated, it is in the form xx.5\n",
      "\n",
      "With respect to the family relation variables (i.e. sibsp and parch)\n",
      "some relations were ignored.  The following are the definitions used\n",
      "for sibsp and parch.\n",
      "\n",
      "Sibling:  Brother, Sister, Stepbrother, or Stepsister of Passenger Aboard Titanic\n",
      "Spouse:   Husband or Wife of Passenger Aboard Titanic (Mistresses and Fiances Ignored)\n",
      "Parent:   Mother or Father of Passenger Aboard Titanic\n",
      "Child:    Son, Daughter, Stepson, or Stepdaughter of Passenger Aboard Titanic\n",
      "\n",
      "Other family relatives excluded from this study include cousins,\n",
      "nephews/nieces, aunts/uncles, and in-laws.  Some children travelled\n",
      "only with a nanny, therefore parch=0 for them.  As well, some\n",
      "travelled with very close friends or neighbors in a village, however,\n",
      "the definitions do not support such relations."
     ]
    },
    {
     "cell_type": "code",
     "collapsed": false,
     "input": [
      "train.dtypes"
     ],
     "language": "python",
     "metadata": {},
     "outputs": [
      {
       "metadata": {},
       "output_type": "pyout",
       "prompt_number": 3,
       "text": [
        "PassengerId      int64\n",
        "Survived         int64\n",
        "Pclass           int64\n",
        "Name            object\n",
        "Sex             object\n",
        "Age            float64\n",
        "SibSp            int64\n",
        "Parch            int64\n",
        "Ticket          object\n",
        "Fare           float64\n",
        "Cabin           object\n",
        "Embarked        object\n",
        "dtype: object"
       ]
      }
     ],
     "prompt_number": 3
    },
    {
     "cell_type": "code",
     "collapsed": false,
     "input": [
      "train['Fare'].hist(bins=100)"
     ],
     "language": "python",
     "metadata": {},
     "outputs": [
      {
       "metadata": {},
       "output_type": "pyout",
       "prompt_number": 4,
       "text": [
        "<matplotlib.axes.AxesSubplot at 0x3646890>"
       ]
      },
      {
       "metadata": {},
       "output_type": "display_data",
       "png": "[encoded data removed]",
       "text": [
        "<matplotlib.figure.Figure at 0x2d0bc90>"
       ]
      }
     ],
     "prompt_number": 4
    },
    {
     "cell_type": "code",
     "collapsed": false,
     "input": [
      "train['Fare'].hist(bins=100)\n",
      "plt.xlim((0, 100))"
     ],
     "language": "python",
     "metadata": {},
     "outputs": [
      {
       "metadata": {},
       "output_type": "pyout",
       "prompt_number": 5,
       "text": [
        "(0, 100)"
       ]
      },
      {
       "metadata": {},
       "output_type": "display_data",
       "png": "[encoded data removed]",
       "text": [
        "<matplotlib.figure.Figure at 0x37a3790>"
       ]
      }
     ],
     "prompt_number": 5
    },
    {
     "cell_type": "code",
     "collapsed": false,
     "input": [
      "train['Age'].hist()"
     ],
     "language": "python",
     "metadata": {},
     "outputs": [
      {
       "metadata": {},
       "output_type": "pyout",
       "prompt_number": 6,
       "text": [
        "<matplotlib.axes.AxesSubplot at 0x3787550>"
       ]
      },
      {
       "metadata": {},
       "output_type": "display_data",
       "png": "[encoded data removed]",
       "text": [
        "<matplotlib.figure.Figure at 0x3dfea90>"
       ]
      }
     ],
     "prompt_number": 6
    },
    {
     "cell_type": "raw",
     "metadata": {},
     "source": [
      "# TODO\n",
      "# visualise survival versus sex - maybe a stacked bar chart? at least do a simple percentage calculation and print the result\n",
      "# visualise age vs fare as a scatter chart and colour the markers to show survival - do we see a pattern?\n",
      "# maybe modify the scatter plot to show Pclass using a symbol (e.g. square, triangle, circle) as an addition, so we show 4 dimensions (age, fare, Pclass, survival) on a 2D chart"
     ]
    },
    {
     "cell_type": "code",
     "collapsed": false,
     "input": [
      "# Note that 'Sex' column is an object (it is a string)\n",
      "print train['Sex'].map(lambda x: x=='male')[:5]"
     ],
     "language": "python",
     "metadata": {},
     "outputs": [
      {
       "output_type": "stream",
       "stream": "stdout",
       "text": [
        "0     True\n",
        "1    False\n",
        "2    False\n",
        "3    False\n",
        "4     True\n",
        "Name: Sex, dtype: bool\n"
       ]
      }
     ],
     "prompt_number": 7
    },
    {
     "cell_type": "code",
     "collapsed": false,
     "input": [
      "def is_male(cell_value):\n",
      "    return cell_value == \"male\"\n",
      "print train['Sex'].map(is_male)[:5]"
     ],
     "language": "python",
     "metadata": {},
     "outputs": [
      {
       "output_type": "stream",
       "stream": "stdout",
       "text": [
        "0     True\n",
        "1    False\n",
        "2    False\n",
        "3    False\n",
        "4     True\n",
        "Name: Sex, dtype: bool\n"
       ]
      }
     ],
     "prompt_number": 8
    },
    {
     "cell_type": "code",
     "collapsed": false,
     "input": [
      "# add a new is_male column to the DataFrame by calling our function\n",
      "train['is_male'] = train['Sex'].map(is_male)"
     ],
     "language": "python",
     "metadata": {},
     "outputs": [],
     "prompt_number": 9
    },
    {
     "cell_type": "code",
     "collapsed": false,
     "input": [
      "train.dtypes  # what dtypes do we have now?"
     ],
     "language": "python",
     "metadata": {},
     "outputs": [
      {
       "metadata": {},
       "output_type": "pyout",
       "prompt_number": 10,
       "text": [
        "PassengerId      int64\n",
        "Survived         int64\n",
        "Pclass           int64\n",
        "Name            object\n",
        "Sex             object\n",
        "Age            float64\n",
        "SibSp            int64\n",
        "Parch            int64\n",
        "Ticket          object\n",
        "Fare           float64\n",
        "Cabin           object\n",
        "Embarked        object\n",
        "is_male           bool\n",
        "dtype: object"
       ]
      }
     ],
     "prompt_number": 10
    },
    {
     "cell_type": "code",
     "collapsed": false,
     "input": [
      "train.head()  # show new 'is_male' column"
     ],
     "language": "python",
     "metadata": {},
     "outputs": [
      {
       "html": [
        "<div style=\"max-height:1000px;max-width:1500px;overflow:auto;\">\n",
        "<table border=\"1\" class=\"dataframe\">\n",
        "  <thead>\n",
        "    <tr style=\"text-align: right;\">\n",
        "      <th></th>\n",
        "      <th>PassengerId</th>\n",
        "      <th>Survived</th>\n",
        "      <th>Pclass</th>\n",
        "      <th>Name</th>\n",
        "      <th>Sex</th>\n",
        "      <th>Age</th>\n",
        "      <th>SibSp</th>\n",
        "      <th>Parch</th>\n",
        "      <th>Ticket</th>\n",
        "      <th>Fare</th>\n",
        "      <th>Cabin</th>\n",
        "      <th>Embarked</th>\n",
        "      <th>is_male</th>\n",
        "    </tr>\n",
        "  </thead>\n",
        "  <tbody>\n",
        "    <tr>\n",
        "      <th>0</th>\n",
        "      <td> 1</td>\n",
        "      <td> 0</td>\n",
        "      <td> 3</td>\n",
        "      <td>                           Braund, Mr. Owen Harris</td>\n",
        "      <td>   male</td>\n",
        "      <td> 22</td>\n",
        "      <td> 1</td>\n",
        "      <td> 0</td>\n",
        "      <td>        A/5 21171</td>\n",
        "      <td>  7.2500</td>\n",
        "      <td>  NaN</td>\n",
        "      <td> S</td>\n",
        "      <td>  True</td>\n",
        "    </tr>\n",
        "    <tr>\n",
        "      <th>1</th>\n",
        "      <td> 2</td>\n",
        "      <td> 1</td>\n",
        "      <td> 1</td>\n",
        "      <td> Cumings, Mrs. John Bradley (Florence Briggs Th...</td>\n",
        "      <td> female</td>\n",
        "      <td> 38</td>\n",
        "      <td> 1</td>\n",
        "      <td> 0</td>\n",
        "      <td>         PC 17599</td>\n",
        "      <td> 71.2833</td>\n",
        "      <td>  C85</td>\n",
        "      <td> C</td>\n",
        "      <td> False</td>\n",
        "    </tr>\n",
        "    <tr>\n",
        "      <th>2</th>\n",
        "      <td> 3</td>\n",
        "      <td> 1</td>\n",
        "      <td> 3</td>\n",
        "      <td>                            Heikkinen, Miss. Laina</td>\n",
        "      <td> female</td>\n",
        "      <td> 26</td>\n",
        "      <td> 0</td>\n",
        "      <td> 0</td>\n",
        "      <td> STON/O2. 3101282</td>\n",
        "      <td>  7.9250</td>\n",
        "      <td>  NaN</td>\n",
        "      <td> S</td>\n",
        "      <td> False</td>\n",
        "    </tr>\n",
        "    <tr>\n",
        "      <th>3</th>\n",
        "      <td> 4</td>\n",
        "      <td> 1</td>\n",
        "      <td> 1</td>\n",
        "      <td>      Futrelle, Mrs. Jacques Heath (Lily May Peel)</td>\n",
        "      <td> female</td>\n",
        "      <td> 35</td>\n",
        "      <td> 1</td>\n",
        "      <td> 0</td>\n",
        "      <td>           113803</td>\n",
        "      <td> 53.1000</td>\n",
        "      <td> C123</td>\n",
        "      <td> S</td>\n",
        "      <td> False</td>\n",
        "    </tr>\n",
        "    <tr>\n",
        "      <th>4</th>\n",
        "      <td> 5</td>\n",
        "      <td> 0</td>\n",
        "      <td> 3</td>\n",
        "      <td>                          Allen, Mr. William Henry</td>\n",
        "      <td>   male</td>\n",
        "      <td> 35</td>\n",
        "      <td> 0</td>\n",
        "      <td> 0</td>\n",
        "      <td>           373450</td>\n",
        "      <td>  8.0500</td>\n",
        "      <td>  NaN</td>\n",
        "      <td> S</td>\n",
        "      <td>  True</td>\n",
        "    </tr>\n",
        "  </tbody>\n",
        "</table>\n",
        "</div>"
       ],
       "metadata": {},
       "output_type": "pyout",
       "prompt_number": 11,
       "text": [
        "   PassengerId  Survived  Pclass  \\\n",
        "0            1         0       3   \n",
        "1            2         1       1   \n",
        "2            3         1       3   \n",
        "3            4         1       1   \n",
        "4            5         0       3   \n",
        "\n",
        "                                                Name     Sex  Age  SibSp  \\\n",
        "0                            Braund, Mr. Owen Harris    male   22      1   \n",
        "1  Cumings, Mrs. John Bradley (Florence Briggs Th...  female   38      1   \n",
        "2                             Heikkinen, Miss. Laina  female   26      0   \n",
        "3       Futrelle, Mrs. Jacques Heath (Lily May Peel)  female   35      1   \n",
        "4                           Allen, Mr. William Henry    male   35      0   \n",
        "\n",
        "   Parch            Ticket     Fare Cabin Embarked is_male  \n",
        "0      0         A/5 21171   7.2500   NaN        S    True  \n",
        "1      0          PC 17599  71.2833   C85        C   False  \n",
        "2      0  STON/O2. 3101282   7.9250   NaN        S   False  \n",
        "3      0            113803  53.1000  C123        S   False  \n",
        "4      0            373450   8.0500   NaN        S    True  "
       ]
      }
     ],
     "prompt_number": 11
    },
    {
     "cell_type": "code",
     "collapsed": false,
     "input": [
      "# Let's start with a tiny bit of statistics - how many males survived?\n",
      "# This lets us ask - did women have a better chance of survival?\n",
      "nbr_male = sum(train['is_male'])\n",
      "nbr_people = float(len(train))\n",
      "print \"{} ({:0.2f}%) males of {} people\".format(nbr_male, nbr_male/nbr_people * 100, nbr_people)\n",
      "\n",
      "print \"{} people survived\".format(sum(train.Survived == 1))\n",
      "print \"{} males survived\".format(sum(train.is_male[train.Survived == 1]))\n",
      "# Do women have an advantage?"
     ],
     "language": "python",
     "metadata": {},
     "outputs": [
      {
       "output_type": "stream",
       "stream": "stdout",
       "text": [
        "577 (64.76%) males of 891.0 people\n",
        "342 people survived\n",
        "109 males survived\n"
       ]
      }
     ],
     "prompt_number": 12
    },
    {
     "cell_type": "code",
     "collapsed": false,
     "input": [
      "train[['Survived', 'is_male']].head()"
     ],
     "language": "python",
     "metadata": {},
     "outputs": [
      {
       "html": [
        "<div style=\"max-height:1000px;max-width:1500px;overflow:auto;\">\n",
        "<table border=\"1\" class=\"dataframe\">\n",
        "  <thead>\n",
        "    <tr style=\"text-align: right;\">\n",
        "      <th></th>\n",
        "      <th>Survived</th>\n",
        "      <th>is_male</th>\n",
        "    </tr>\n",
        "  </thead>\n",
        "  <tbody>\n",
        "    <tr>\n",
        "      <th>0</th>\n",
        "      <td> 0</td>\n",
        "      <td>  True</td>\n",
        "    </tr>\n",
        "    <tr>\n",
        "      <th>1</th>\n",
        "      <td> 1</td>\n",
        "      <td> False</td>\n",
        "    </tr>\n",
        "    <tr>\n",
        "      <th>2</th>\n",
        "      <td> 1</td>\n",
        "      <td> False</td>\n",
        "    </tr>\n",
        "    <tr>\n",
        "      <th>3</th>\n",
        "      <td> 1</td>\n",
        "      <td> False</td>\n",
        "    </tr>\n",
        "    <tr>\n",
        "      <th>4</th>\n",
        "      <td> 0</td>\n",
        "      <td>  True</td>\n",
        "    </tr>\n",
        "  </tbody>\n",
        "</table>\n",
        "</div>"
       ],
       "metadata": {},
       "output_type": "pyout",
       "prompt_number": 13,
       "text": [
        "   Survived is_male\n",
        "0         0    True\n",
        "1         1   False\n",
        "2         1   False\n",
        "3         1   False\n",
        "4         0    True"
       ]
      }
     ],
     "prompt_number": 13
    },
    {
     "cell_type": "code",
     "collapsed": false,
     "input": [
      "train[['Survived', 'Pclass']].head()"
     ],
     "language": "python",
     "metadata": {},
     "outputs": [
      {
       "html": [
        "<div style=\"max-height:1000px;max-width:1500px;overflow:auto;\">\n",
        "<table border=\"1\" class=\"dataframe\">\n",
        "  <thead>\n",
        "    <tr style=\"text-align: right;\">\n",
        "      <th></th>\n",
        "      <th>Survived</th>\n",
        "      <th>Pclass</th>\n",
        "    </tr>\n",
        "  </thead>\n",
        "  <tbody>\n",
        "    <tr>\n",
        "      <th>0</th>\n",
        "      <td> 0</td>\n",
        "      <td> 3</td>\n",
        "    </tr>\n",
        "    <tr>\n",
        "      <th>1</th>\n",
        "      <td> 1</td>\n",
        "      <td> 1</td>\n",
        "    </tr>\n",
        "    <tr>\n",
        "      <th>2</th>\n",
        "      <td> 1</td>\n",
        "      <td> 3</td>\n",
        "    </tr>\n",
        "    <tr>\n",
        "      <th>3</th>\n",
        "      <td> 1</td>\n",
        "      <td> 1</td>\n",
        "    </tr>\n",
        "    <tr>\n",
        "      <th>4</th>\n",
        "      <td> 0</td>\n",
        "      <td> 3</td>\n",
        "    </tr>\n",
        "  </tbody>\n",
        "</table>\n",
        "</div>"
       ],
       "metadata": {},
       "output_type": "pyout",
       "prompt_number": 14,
       "text": [
        "   Survived  Pclass\n",
        "0         0       3\n",
        "1         1       1\n",
        "2         1       3\n",
        "3         1       1\n",
        "4         0       3"
       ]
      }
     ],
     "prompt_number": 14
    },
    {
     "cell_type": "code",
     "collapsed": false,
     "input": [
      "from sklearn import tree\n",
      "clf = tree.DecisionTreeClassifier()"
     ],
     "language": "python",
     "metadata": {},
     "outputs": [],
     "prompt_number": 15
    },
    {
     "cell_type": "code",
     "collapsed": false,
     "input": [
      "print train['is_male'].head()  # sanity-check what the column looks like\n"
     ],
     "language": "python",
     "metadata": {},
     "outputs": [
      {
       "output_type": "stream",
       "stream": "stdout",
       "text": [
        "0     True\n",
        "1    False\n",
        "2    False\n",
        "3    False\n",
        "4     True\n",
        "Name: is_male, dtype: bool\n"
       ]
      }
     ],
     "prompt_number": 16
    },
    {
     "cell_type": "code",
     "collapsed": false,
     "input": [
      "clf.fit(train[['is_male']], train['Survived'])"
     ],
     "language": "python",
     "metadata": {},
     "outputs": [
      {
       "metadata": {},
       "output_type": "pyout",
       "prompt_number": 17,
       "text": [
        "DecisionTreeClassifier(compute_importances=None, criterion='gini',\n",
        "            max_depth=None, max_features=None, min_density=None,\n",
        "            min_samples_leaf=1, min_samples_split=2, random_state=None,\n",
        "            splitter='best')"
       ]
      }
     ],
     "prompt_number": 17
    },
    {
     "cell_type": "code",
     "collapsed": false,
     "input": [
      "# Get the score\n",
      "print \"Score:\", clf.score(train[['is_male']], train['Survived'])\n",
      "print \"Feature importances\", clf.feature_importances_"
     ],
     "language": "python",
     "metadata": {},
     "outputs": [
      {
       "output_type": "stream",
       "stream": "stdout",
       "text": [
        "Score: 0.786756453423\n",
        "Feature importances [ 1.]\n"
       ]
      }
     ],
     "prompt_number": 18
    },
    {
     "cell_type": "code",
     "collapsed": false,
     "input": [
      "# load the test data set\n",
      "# you have to get this file from Kaggle (it is in the same place as train.csv above)\n",
      "test = pd.read_csv(\"test.csv\")\n",
      "test['is_male'] = test['Sex'].map(is_male)\n",
      "\n",
      "test.head()"
     ],
     "language": "python",
     "metadata": {},
     "outputs": [
      {
       "html": [
        "<div style=\"max-height:1000px;max-width:1500px;overflow:auto;\">\n",
        "<table border=\"1\" class=\"dataframe\">\n",
        "  <thead>\n",
        "    <tr style=\"text-align: right;\">\n",
        "      <th></th>\n",
        "      <th>PassengerId</th>\n",
        "      <th>Pclass</th>\n",
        "      <th>Name</th>\n",
        "      <th>Sex</th>\n",
        "      <th>Age</th>\n",
        "      <th>SibSp</th>\n",
        "      <th>Parch</th>\n",
        "      <th>Ticket</th>\n",
        "      <th>Fare</th>\n",
        "      <th>Cabin</th>\n",
        "      <th>Embarked</th>\n",
        "      <th>is_male</th>\n",
        "    </tr>\n",
        "  </thead>\n",
        "  <tbody>\n",
        "    <tr>\n",
        "      <th>0</th>\n",
        "      <td> 892</td>\n",
        "      <td> 3</td>\n",
        "      <td>                             Kelly, Mr. James</td>\n",
        "      <td>   male</td>\n",
        "      <td> 34.5</td>\n",
        "      <td> 0</td>\n",
        "      <td> 0</td>\n",
        "      <td>  330911</td>\n",
        "      <td>  7.8292</td>\n",
        "      <td> NaN</td>\n",
        "      <td> Q</td>\n",
        "      <td>  True</td>\n",
        "    </tr>\n",
        "    <tr>\n",
        "      <th>1</th>\n",
        "      <td> 893</td>\n",
        "      <td> 3</td>\n",
        "      <td>             Wilkes, Mrs. James (Ellen Needs)</td>\n",
        "      <td> female</td>\n",
        "      <td> 47.0</td>\n",
        "      <td> 1</td>\n",
        "      <td> 0</td>\n",
        "      <td>  363272</td>\n",
        "      <td>  7.0000</td>\n",
        "      <td> NaN</td>\n",
        "      <td> S</td>\n",
        "      <td> False</td>\n",
        "    </tr>\n",
        "    <tr>\n",
        "      <th>2</th>\n",
        "      <td> 894</td>\n",
        "      <td> 2</td>\n",
        "      <td>                    Myles, Mr. Thomas Francis</td>\n",
        "      <td>   male</td>\n",
        "      <td> 62.0</td>\n",
        "      <td> 0</td>\n",
        "      <td> 0</td>\n",
        "      <td>  240276</td>\n",
        "      <td>  9.6875</td>\n",
        "      <td> NaN</td>\n",
        "      <td> Q</td>\n",
        "      <td>  True</td>\n",
        "    </tr>\n",
        "    <tr>\n",
        "      <th>3</th>\n",
        "      <td> 895</td>\n",
        "      <td> 3</td>\n",
        "      <td>                             Wirz, Mr. Albert</td>\n",
        "      <td>   male</td>\n",
        "      <td> 27.0</td>\n",
        "      <td> 0</td>\n",
        "      <td> 0</td>\n",
        "      <td>  315154</td>\n",
        "      <td>  8.6625</td>\n",
        "      <td> NaN</td>\n",
        "      <td> S</td>\n",
        "      <td>  True</td>\n",
        "    </tr>\n",
        "    <tr>\n",
        "      <th>4</th>\n",
        "      <td> 896</td>\n",
        "      <td> 3</td>\n",
        "      <td> Hirvonen, Mrs. Alexander (Helga E Lindqvist)</td>\n",
        "      <td> female</td>\n",
        "      <td> 22.0</td>\n",
        "      <td> 1</td>\n",
        "      <td> 1</td>\n",
        "      <td> 3101298</td>\n",
        "      <td> 12.2875</td>\n",
        "      <td> NaN</td>\n",
        "      <td> S</td>\n",
        "      <td> False</td>\n",
        "    </tr>\n",
        "  </tbody>\n",
        "</table>\n",
        "</div>"
       ],
       "metadata": {},
       "output_type": "pyout",
       "prompt_number": 19,
       "text": [
        "   PassengerId  Pclass                                          Name     Sex  \\\n",
        "0          892       3                              Kelly, Mr. James    male   \n",
        "1          893       3              Wilkes, Mrs. James (Ellen Needs)  female   \n",
        "2          894       2                     Myles, Mr. Thomas Francis    male   \n",
        "3          895       3                              Wirz, Mr. Albert    male   \n",
        "4          896       3  Hirvonen, Mrs. Alexander (Helga E Lindqvist)  female   \n",
        "\n",
        "    Age  SibSp  Parch   Ticket     Fare Cabin Embarked is_male  \n",
        "0  34.5      0      0   330911   7.8292   NaN        Q    True  \n",
        "1  47.0      1      0   363272   7.0000   NaN        S   False  \n",
        "2  62.0      0      0   240276   9.6875   NaN        Q    True  \n",
        "3  27.0      0      0   315154   8.6625   NaN        S    True  \n",
        "4  22.0      1      1  3101298  12.2875   NaN        S   False  "
       ]
      }
     ],
     "prompt_number": 19
    },
    {
     "cell_type": "code",
     "collapsed": false,
     "input": [
      "# we can't score the test set as it doesn't have a Survived column\n",
      "# this means we can't cheat, so we only get a score when we upload to Kaggle\n",
      "#clf.score(test['is_male'].reshape((-1,2)), test['Survived'])"
     ],
     "language": "python",
     "metadata": {},
     "outputs": [],
     "prompt_number": 20
    },
    {
     "cell_type": "code",
     "collapsed": false,
     "input": [
      "# predict using the test set, write the first few answers\n",
      "predictions = clf.predict(test[['is_male']])\n",
      "predictions[:5]\n",
      "print \"Total predicted survivor rate:\", sum(predictions)  # this should print 152"
     ],
     "language": "python",
     "metadata": {},
     "outputs": [
      {
       "output_type": "stream",
       "stream": "stdout",
       "text": [
        "Total predicted survivor rate: 152\n"
       ]
      }
     ],
     "prompt_number": 21
    },
    {
     "cell_type": "code",
     "collapsed": false,
     "input": [
      "#from sklearn.externals.six import StringIO  \n",
      "import StringIO\n",
      "import pydot \n",
      "root_filename = \"clf_is_male\"\n",
      "dot_data = StringIO.StringIO()\n",
      "tree.export_graphviz(clf, out_file=dot_data, feature_names=['is_male']) \n",
      "with open(root_filename + '.dot', 'w') as f:\n",
      "    f.write(dot_data.getvalue())\n",
      "# output as a PNG\n",
      "import os\n",
      "os.system(\"dot -Tpng {}.dot -o {}.png\".format(root_filename, root_filename))\n",
      "\n",
      "# note! if pyparsing==2.0.1 then we get:\n",
      "# NameError: global name 'dot_parser' is not defined\n",
      "# so we have to uninstall pyparsing (pip uninstall pyparsing) and\n",
      "# install the older more compatible version:\n",
      "# pip install pyparsing==1.5.7\n",
      "# if you installed the 'requirements.txt' as specified in the README then you'll\n",
      "# have this version (1.5.7) already\n",
      "\n",
      "# write a PDF locally - you can comment out these 2 lines if it doesn't work\n",
      "graph = pydot.graph_from_dot_data(dot_data.getvalue()) \n",
      "graph.write_pdf(\"{}.pdf\".format(root_filename)) \n",
      "\n",
      "# draw the PNG file into the page below this box so we can visualise\n",
      "# it here in the Notebook\n",
      "from IPython.core.display import Image \n",
      "Image(filename='{}.png'.format(root_filename)) "
     ],
     "language": "python",
     "metadata": {},
     "outputs": [
      {
       "metadata": {},
       "output_type": "pyout",
       "png": "[encoded data removed]",
       "prompt_number": 24,
       "text": [
        "<IPython.core.display.Image at 0x46ef2d0>"
       ]
      }
     ],
     "prompt_number": 24
    },
    {
     "cell_type": "raw",
     "metadata": {},
     "source": [
      "In the diagram above the field `is_male` is boolean but the Decision Tree represents it as a number, so the <= 0.5 test is saying \"if 0 then go left, if 1 then go right\". 0 is False so the left branch is for females, the right branch is for males. The two leaf nodes (on the second row) use the same output `value`. Column 0 is for Survived==0 (i.e. the number who died), column 1 is for Survived==1 (i.e. those who lived). \n",
      "You can see that 109 males survived. Confirm this with the result a few cells above where we calculated the number of men who survived.\n",
      "Question - how many females died?"
     ]
    },
    {
     "cell_type": "code",
     "collapsed": false,
     "input": [
      "# write out a predictions_is_male.csv file, this can be directly uploaded\n",
      "# to kaggle as a first result. This gives an identical result to anyone who uses the\n",
      "# Sex column (e.g. anyone who follows Kaggle's Excel or Python introduction)\n",
      "predictions_df = pd.DataFrame(predictions, columns=['Survived'])\n",
      "predictions_df['PassengerId'] = test['PassengerId']\n",
      "predictions_df.set_index('PassengerId')\n",
      "predictions_df.to_csv('predictions_is_male.csv', index=False, cols=['PassengerId', 'Survived'])\n",
      "\n",
      "# note the output should be identical to gendermodel.csv which is provided by Kaggle\n",
      "# the above scores 0.76555 for rank 4000 or so\n",
      "\n",
      "# if you downloaded Kaggle's gendermodel.csv then the file we've just generated and gendermodel.csv \n",
      "# should be identical"
     ],
     "language": "python",
     "metadata": {},
     "outputs": [],
     "prompt_number": 27
    },
    {
     "cell_type": "raw",
     "metadata": {},
     "source": [
      "Next you should read more on the Kaggle website about \"Getting Started\" for this competition, it gives some hints about where to go next."
     ]
    }
   ],
   "metadata": {}
  }
 ]
}